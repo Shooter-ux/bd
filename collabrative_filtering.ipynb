{
  "nbformat": 4,
  "nbformat_minor": 0,
  "metadata": {
    "colab": {
      "provenance": []
    },
    "kernelspec": {
      "name": "python3",
      "display_name": "Python 3"
    },
    "language_info": {
      "name": "python"
    }
  },
  "cells": [
    {
      "cell_type": "code",
      "execution_count": 1,
      "metadata": {
        "colab": {
          "base_uri": "https://localhost:8080/"
        },
        "id": "tBj47MQEEWKX",
        "outputId": "e47744db-d936-402e-921e-5bb6f3846cd2"
      },
      "outputs": [
        {
          "output_type": "stream",
          "name": "stdout",
          "text": [
            "Recommendations for user 3 : [(4, 4.456305716249608), (5, 3.0000000000000004)]\n"
          ]
        }
      ],
      "source": [
        "# Sample User-Item Rating Data\n",
        "# Each tuple represents (user_id, item_id, rating)\n",
        "ratings = [\n",
        "    (1, 1, 5),\n",
        "    (1, 2, 4),\n",
        "    (1, 3, 2),\n",
        "    (1, 4, 5),       # User 1 rated item 4\n",
        "    (2, 1, 3),\n",
        "    (2, 2, 5),\n",
        "    (2, 3, 4),\n",
        "    (2, 4, 4),       # User 2 rated item 4\n",
        "    (2, 5, 3),       # User 2 rated item 5\n",
        "    (3, 1, 2),\n",
        "    (3, 2, 3),\n",
        "    (3, 3, 4)        # User 3 has NOT rated items 4 and 5\n",
        "]\n",
        "\n",
        "# Function to calculate cosine similarity between two users\n",
        "def cosine_similarity(user1_ratings, user2_ratings):\n",
        "    common_items = set(user1_ratings.keys()) & set(user2_ratings.keys())\n",
        "    if len(common_items) == 0:\n",
        "        return 0\n",
        "    dot_product = sum(user1_ratings[item] * user2_ratings[item] for item in common_items)\n",
        "    user1_norm = sum(rating ** 2 for rating in user1_ratings.values()) ** 0.5\n",
        "    user2_norm = sum(rating ** 2 for rating in user2_ratings.values()) ** 0.5\n",
        "    return dot_product / (user1_norm * user2_norm)\n",
        "\n",
        "# Function to get recommendations for a user\n",
        "def get_recommendations(user_id, ratings, similarity_func, k=3):\n",
        "    # Step 1: Get target user's ratings\n",
        "    user_ratings = {item_id: rating for u_id, item_id, rating in ratings if u_id == user_id}\n",
        "\n",
        "    # Step 2: Build ratings for other users (excluding the target user)\n",
        "    other_users = {}\n",
        "    for u_id in set(u_id for u_id, _, _ in ratings):\n",
        "        if u_id != user_id:\n",
        "            other_users[u_id] = {item_id: rating for uid, item_id, rating in ratings if uid == u_id}\n",
        "\n",
        "    # Step 3: Compute similarity of the target user with others\n",
        "    similarities = {\n",
        "        other_user_id: similarity_func(user_ratings, other_user_ratings)\n",
        "        for other_user_id, other_user_ratings in other_users.items()\n",
        "    }\n",
        "\n",
        "    # Step 4: Select top-k similar users\n",
        "    top_k_similar_users = sorted(similarities.items(), key=lambda x: x[1], reverse=True)[:k]\n",
        "\n",
        "    # Step 5: Generate weighted recommendations from top-k users\n",
        "    recommendations = {}\n",
        "    for other_user_id, similarity in top_k_similar_users:\n",
        "        other_user_ratings = other_users[other_user_id]\n",
        "        for item_id, rating in other_user_ratings.items():\n",
        "            if item_id not in user_ratings:\n",
        "                if item_id not in recommendations:\n",
        "                    recommendations[item_id] = (rating * similarity, similarity)\n",
        "                else:\n",
        "                    weighted_rating, total_similarity = recommendations[item_id]\n",
        "                    recommendations[item_id] = (\n",
        "                        weighted_rating + rating * similarity,\n",
        "                        total_similarity + similarity\n",
        "                    )\n",
        "\n",
        "    # Step 6: Normalize and sort recommendations\n",
        "    final_recommendations = [\n",
        "        (item_id, weighted_rating / total_similarity)\n",
        "        for item_id, (weighted_rating, total_similarity) in recommendations.items()\n",
        "        if total_similarity > 0\n",
        "    ]\n",
        "\n",
        "    return sorted(final_recommendations, key=lambda x: x[1], reverse=True)\n",
        "\n",
        "# Example usage\n",
        "user_id = 3\n",
        "recommendations = get_recommendations(user_id, ratings, cosine_similarity)\n",
        "print(\"Recommendations for user\", user_id, \":\", recommendations)\n"
      ]
    }
  ]
}